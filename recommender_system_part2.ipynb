{
  "nbformat": 4,
  "nbformat_minor": 0,
  "metadata": {
    "kernelspec": {
      "name": "python3",
      "display_name": "Python 3",
      "language": "python"
    },
    "colab": {
      "name": "recommender-system-part2.ipynb",
      "provenance": []
    }
  },
  "cells": [
    {
      "cell_type": "markdown",
      "metadata": {
        "id": "aqFkiQ8rjcLI",
        "colab_type": "text"
      },
      "source": [
        "### So here we are using the data which we generated in the last part"
      ]
    },
    {
      "cell_type": "markdown",
      "metadata": {
        "id": "rPa1gur-jcLK",
        "colab_type": "text"
      },
      "source": [
        "![recommend](https://miro.medium.com/max/2560/1*dOM8OeGZq6FkquXQq-l7HA.jpeg)"
      ]
    },
    {
      "cell_type": "code",
      "metadata": {
        "_uuid": "8f2839f25d086af736a60e9eeb907d3b93b6e0e5",
        "_cell_guid": "b1076dfc-b9ad-4769-8c92-a6c4dae69d19",
        "trusted": true,
        "_kg_hide-input": true,
        "id": "80rZowMvjcLL",
        "colab_type": "code",
        "colab": {},
        "outputId": "59dbc5be-907b-4587-de94-23aa5a8ccef9"
      },
      "source": [
        "# This Python 3 environment comes with many helpful analytics libraries installed\n",
        "# It is defined by the kaggle/python Docker image: https://github.com/kaggle/docker-python\n",
        "# For example, here's several helpful packages to load\n",
        "\n",
        "import numpy as np # linear algebra\n",
        "import pandas as pd # data processing, CSV file I/O (e.g. pd.read_csv)\n",
        "\n",
        "# Input data files are available in the read-only \"../input/\" directory\n",
        "# For example, running this (by clicking run or pressing Shift+Enter) will list all files under the input directory\n",
        "\n",
        "import os\n",
        "for dirname, _, filenames in os.walk('/kaggle/input'):\n",
        "    for filename in filenames:\n",
        "        print(os.path.join(dirname, filename))\n",
        "\n",
        "# You can write up to 5GB to the current directory (/kaggle/working/) that gets preserved as output when you create a version using \"Save & Run All\" \n",
        "# You can also write temporary files to /kaggle/temp/, but they won't be saved outside of the current session"
      ],
      "execution_count": 0,
      "outputs": [
        {
          "output_type": "stream",
          "text": [
            "/kaggle/input/generated-user-data-for-recommendation/file3.csv\n"
          ],
          "name": "stdout"
        }
      ]
    },
    {
      "cell_type": "code",
      "metadata": {
        "_uuid": "d629ff2d2480ee46fbb7e2d37f6b5fab8052498a",
        "_cell_guid": "79c7e3d0-c299-4dcb-8224-4455121ee9b0",
        "trusted": true,
        "id": "DnYh0CIKjcLR",
        "colab_type": "code",
        "colab": {}
      },
      "source": [
        "df = pd.read_csv('/kaggle/input/generated-user-data-for-recommendation/file3.csv')"
      ],
      "execution_count": 0,
      "outputs": []
    },
    {
      "cell_type": "code",
      "metadata": {
        "trusted": true,
        "id": "_6nUP2HGjcLV",
        "colab_type": "code",
        "colab": {},
        "outputId": "3d52ce99-4523-4409-8915-e476c31f14bc"
      },
      "source": [
        "df.head()"
      ],
      "execution_count": 0,
      "outputs": [
        {
          "output_type": "execute_result",
          "data": {
            "text/plain": [
              "   UserId  SessionId  ArticleId_served  rating\n",
              "0       0          1                 0       2\n",
              "1       0          1                 1       1\n",
              "2       0          1                 2       2\n",
              "3       0          1                 3       5\n",
              "4       0          1                 4       5"
            ],
            "text/html": [
              "<div>\n",
              "<style scoped>\n",
              "    .dataframe tbody tr th:only-of-type {\n",
              "        vertical-align: middle;\n",
              "    }\n",
              "\n",
              "    .dataframe tbody tr th {\n",
              "        vertical-align: top;\n",
              "    }\n",
              "\n",
              "    .dataframe thead th {\n",
              "        text-align: right;\n",
              "    }\n",
              "</style>\n",
              "<table border=\"1\" class=\"dataframe\">\n",
              "  <thead>\n",
              "    <tr style=\"text-align: right;\">\n",
              "      <th></th>\n",
              "      <th>UserId</th>\n",
              "      <th>SessionId</th>\n",
              "      <th>ArticleId_served</th>\n",
              "      <th>rating</th>\n",
              "    </tr>\n",
              "  </thead>\n",
              "  <tbody>\n",
              "    <tr>\n",
              "      <th>0</th>\n",
              "      <td>0</td>\n",
              "      <td>1</td>\n",
              "      <td>0</td>\n",
              "      <td>2</td>\n",
              "    </tr>\n",
              "    <tr>\n",
              "      <th>1</th>\n",
              "      <td>0</td>\n",
              "      <td>1</td>\n",
              "      <td>1</td>\n",
              "      <td>1</td>\n",
              "    </tr>\n",
              "    <tr>\n",
              "      <th>2</th>\n",
              "      <td>0</td>\n",
              "      <td>1</td>\n",
              "      <td>2</td>\n",
              "      <td>2</td>\n",
              "    </tr>\n",
              "    <tr>\n",
              "      <th>3</th>\n",
              "      <td>0</td>\n",
              "      <td>1</td>\n",
              "      <td>3</td>\n",
              "      <td>5</td>\n",
              "    </tr>\n",
              "    <tr>\n",
              "      <th>4</th>\n",
              "      <td>0</td>\n",
              "      <td>1</td>\n",
              "      <td>4</td>\n",
              "      <td>5</td>\n",
              "    </tr>\n",
              "  </tbody>\n",
              "</table>\n",
              "</div>"
            ]
          },
          "metadata": {
            "tags": []
          },
          "execution_count": 37
        }
      ]
    },
    {
      "cell_type": "code",
      "metadata": {
        "trusted": true,
        "id": "yJ03bfTajcLY",
        "colab_type": "code",
        "colab": {},
        "outputId": "f5eff6c0-6c65-45c3-94d3-2423a529d812"
      },
      "source": [
        "df['rating'].value_counts()[:50].plot()"
      ],
      "execution_count": 0,
      "outputs": [
        {
          "output_type": "execute_result",
          "data": {
            "text/plain": [
              "<matplotlib.axes._subplots.AxesSubplot at 0x7fb3b6aae150>"
            ]
          },
          "metadata": {
            "tags": []
          },
          "execution_count": 38
        },
        {
          "output_type": "display_data",
          "data": {
            "text/plain": [
              "<Figure size 432x288 with 1 Axes>"
            ],
            "image/png": "[encoded data removed]"
          },
          "metadata": {
            "tags": [],
            "needs_background": "light"
          }
        }
      ]
    },
    {
      "cell_type": "markdown",
      "metadata": {
        "id": "faAegSoRjcLc",
        "colab_type": "text"
      },
      "source": [
        "SURPISE - is a Python scikit building and analyzing recommender systems that deal with explicit rating data.\n",
        "\n",
        "The name SurPRISE (roughly :) ) stands for Simple Python RecommendatIon System Engine."
      ]
    },
    {
      "cell_type": "code",
      "metadata": {
        "trusted": true,
        "_kg_hide-input": true,
        "id": "iWJiAF5XjcLd",
        "colab_type": "code",
        "colab": {}
      },
      "source": [
        "from surprise import Reader\n",
        "from surprise import SVD\n",
        "from surprise import Dataset\n",
        "from surprise.model_selection import cross_validate\n",
        "from surprise.model_selection import train_test_split\n"
      ],
      "execution_count": 0,
      "outputs": []
    },
    {
      "cell_type": "code",
      "metadata": {
        "trusted": true,
        "id": "91MJRdBojcLg",
        "colab_type": "code",
        "colab": {}
      },
      "source": [
        "reader = Reader()"
      ],
      "execution_count": 0,
      "outputs": []
    },
    {
      "cell_type": "code",
      "metadata": {
        "trusted": true,
        "id": "bQwjqTZQjcLl",
        "colab_type": "code",
        "colab": {}
      },
      "source": [
        "data = Dataset.load_from_df(df[['UserId', 'ArticleId_served', 'rating']], reader)"
      ],
      "execution_count": 0,
      "outputs": []
    },
    {
      "cell_type": "code",
      "metadata": {
        "trusted": true,
        "id": "XJoz-EkhjcLp",
        "colab_type": "code",
        "colab": {},
        "outputId": "bb7db22b-96e6-4ba7-e4cc-e736678a7607"
      },
      "source": [
        "dataset = data.build_full_trainset()\n",
        "print('Number of users: ',dataset.n_users,'\\n')\n",
        "print('Number of items: ',dataset.n_items)"
      ],
      "execution_count": 0,
      "outputs": [
        {
          "output_type": "stream",
          "text": [
            "Number of users:  4830 \n",
            "\n",
            "Number of items:  4831\n"
          ],
          "name": "stdout"
        }
      ]
    },
    {
      "cell_type": "markdown",
      "metadata": {
        "id": "KuwaxV8kjcLs",
        "colab_type": "text"
      },
      "source": [
        "### With the Surprise library, we will benchmark the following algorithms:"
      ]
    },
    {
      "cell_type": "code",
      "metadata": {
        "trusted": true,
        "id": "Na29-0BajcLs",
        "colab_type": "code",
        "colab": {},
        "outputId": "7dbe940e-9682-461d-ff54-9396eb7bd996"
      },
      "source": [
        "from surprise import SVD\n",
        "from surprise import SVDpp\n",
        "from surprise import NMF\n",
        "from surprise import NormalPredictor\n",
        "from surprise import KNNBaseline\n",
        "from surprise import KNNBasic\n",
        "from surprise import KNNWithMeans\n",
        "from surprise import BaselineOnly\n",
        "from surprise import CoClustering\n",
        "\n",
        "benchmark = []\n",
        "# Iterate over all algorithms\n",
        "for algorithm in [SVD(), SVDpp(), NMF(), NormalPredictor(), KNNBaseline(), KNNBasic(), KNNWithMeans(), BaselineOnly(), CoClustering()]:\n",
        "    # Perform cross validation\n",
        "    results = cross_validate(algorithm, data, measures=['RMSE'], cv=3, verbose=False)\n",
        "    \n",
        "    # Get results & append algorithm name\n",
        "    tmp = pd.DataFrame.from_dict(results).mean(axis=0)\n",
        "    tmp = tmp.append(pd.Series([str(algorithm).split(' ')[0].split('.')[-1]], index=['Algorithm']))\n",
        "    benchmark.append(tmp)\n",
        "    \n",
        "pd.DataFrame(benchmark).set_index('Algorithm').sort_values('test_rmse')  "
      ],
      "execution_count": 0,
      "outputs": [
        {
          "output_type": "stream",
          "text": [
            "Estimating biases using als...\n",
            "Computing the msd similarity matrix...\n",
            "Done computing similarity matrix.\n",
            "Estimating biases using als...\n",
            "Computing the msd similarity matrix...\n",
            "Done computing similarity matrix.\n",
            "Estimating biases using als...\n",
            "Computing the msd similarity matrix...\n",
            "Done computing similarity matrix.\n",
            "Computing the msd similarity matrix...\n",
            "Done computing similarity matrix.\n",
            "Computing the msd similarity matrix...\n",
            "Done computing similarity matrix.\n",
            "Computing the msd similarity matrix...\n",
            "Done computing similarity matrix.\n",
            "Computing the msd similarity matrix...\n",
            "Done computing similarity matrix.\n",
            "Computing the msd similarity matrix...\n",
            "Done computing similarity matrix.\n",
            "Computing the msd similarity matrix...\n",
            "Done computing similarity matrix.\n",
            "Estimating biases using als...\n",
            "Estimating biases using als...\n",
            "Estimating biases using als...\n"
          ],
          "name": "stdout"
        },
        {
          "output_type": "execute_result",
          "data": {
            "text/plain": [
              "                 test_rmse    fit_time  test_time\n",
              "Algorithm                                        \n",
              "BaselineOnly      1.441145    0.619702   0.673646\n",
              "SVD               1.466417   13.307138   1.015819\n",
              "SVDpp             1.486014  116.085068   5.172688\n",
              "CoClustering      1.546841    5.809843   0.919060\n",
              "KNNBaseline       1.667830    2.570384   4.113992\n",
              "KNNBasic          1.672272    1.816061   3.723920\n",
              "KNNWithMeans      1.675658    1.990167   4.135979\n",
              "NMF               1.686610   15.406493   0.813716\n",
              "NormalPredictor   1.868847    0.343571   0.715170"
            ],
            "text/html": [
              "<div>\n",
              "<style scoped>\n",
              "    .dataframe tbody tr th:only-of-type {\n",
              "        vertical-align: middle;\n",
              "    }\n",
              "\n",
              "    .dataframe tbody tr th {\n",
              "        vertical-align: top;\n",
              "    }\n",
              "\n",
              "    .dataframe thead th {\n",
              "        text-align: right;\n",
              "    }\n",
              "</style>\n",
              "<table border=\"1\" class=\"dataframe\">\n",
              "  <thead>\n",
              "    <tr style=\"text-align: right;\">\n",
              "      <th></th>\n",
              "      <th>test_rmse</th>\n",
              "      <th>fit_time</th>\n",
              "      <th>test_time</th>\n",
              "    </tr>\n",
              "    <tr>\n",
              "      <th>Algorithm</th>\n",
              "      <th></th>\n",
              "      <th></th>\n",
              "      <th></th>\n",
              "    </tr>\n",
              "  </thead>\n",
              "  <tbody>\n",
              "    <tr>\n",
              "      <th>BaselineOnly</th>\n",
              "      <td>1.441145</td>\n",
              "      <td>0.619702</td>\n",
              "      <td>0.673646</td>\n",
              "    </tr>\n",
              "    <tr>\n",
              "      <th>SVD</th>\n",
              "      <td>1.466417</td>\n",
              "      <td>13.307138</td>\n",
              "      <td>1.015819</td>\n",
              "    </tr>\n",
              "    <tr>\n",
              "      <th>SVDpp</th>\n",
              "      <td>1.486014</td>\n",
              "      <td>116.085068</td>\n",
              "      <td>5.172688</td>\n",
              "    </tr>\n",
              "    <tr>\n",
              "      <th>CoClustering</th>\n",
              "      <td>1.546841</td>\n",
              "      <td>5.809843</td>\n",
              "      <td>0.919060</td>\n",
              "    </tr>\n",
              "    <tr>\n",
              "      <th>KNNBaseline</th>\n",
              "      <td>1.667830</td>\n",
              "      <td>2.570384</td>\n",
              "      <td>4.113992</td>\n",
              "    </tr>\n",
              "    <tr>\n",
              "      <th>KNNBasic</th>\n",
              "      <td>1.672272</td>\n",
              "      <td>1.816061</td>\n",
              "      <td>3.723920</td>\n",
              "    </tr>\n",
              "    <tr>\n",
              "      <th>KNNWithMeans</th>\n",
              "      <td>1.675658</td>\n",
              "      <td>1.990167</td>\n",
              "      <td>4.135979</td>\n",
              "    </tr>\n",
              "    <tr>\n",
              "      <th>NMF</th>\n",
              "      <td>1.686610</td>\n",
              "      <td>15.406493</td>\n",
              "      <td>0.813716</td>\n",
              "    </tr>\n",
              "    <tr>\n",
              "      <th>NormalPredictor</th>\n",
              "      <td>1.868847</td>\n",
              "      <td>0.343571</td>\n",
              "      <td>0.715170</td>\n",
              "    </tr>\n",
              "  </tbody>\n",
              "</table>\n",
              "</div>"
            ]
          },
          "metadata": {
            "tags": []
          },
          "execution_count": 43
        }
      ]
    },
    {
      "cell_type": "markdown",
      "metadata": {
        "id": "FOY6uEFwjcLw",
        "colab_type": "text"
      },
      "source": [
        "> There are few more like coclustering , slopeone, KNNWithZScore . feel free to use them as well "
      ]
    },
    {
      "cell_type": "markdown",
      "metadata": {
        "id": "rkkC22oHjcLx",
        "colab_type": "text"
      },
      "source": [
        "## SVD"
      ]
    },
    {
      "cell_type": "code",
      "metadata": {
        "trusted": true,
        "id": "LBw5MWZGjcLx",
        "colab_type": "code",
        "colab": {}
      },
      "source": [
        "from surprise.model_selection import GridSearchCV\n"
      ],
      "execution_count": 0,
      "outputs": []
    },
    {
      "cell_type": "markdown",
      "metadata": {
        "id": "YUdMzuzLjcL1",
        "colab_type": "text"
      },
      "source": [
        "lr_all --> learning rate for all parameters\n",
        "\n",
        "reg_all --> The regularization term for all parameters"
      ]
    },
    {
      "cell_type": "markdown",
      "metadata": {
        "id": "S8AbufuXjcL2",
        "colab_type": "text"
      },
      "source": [
        "#### Tuning SVD parameters with GridSearchCV"
      ]
    },
    {
      "cell_type": "code",
      "metadata": {
        "trusted": true,
        "id": "oRKynlGXjcL3",
        "colab_type": "code",
        "colab": {},
        "outputId": "446bd3be-0257-4349-a9c4-c6b3a2ef94ff"
      },
      "source": [
        "param_grid = {'n_epochs': [5, 10], 'lr_all': [0.002, 0.005],\n",
        "              'reg_all': [0.4, 0.6]}\n",
        "gs = GridSearchCV(SVD, param_grid, measures=['rmse', 'mae'], cv=3)\n",
        "\n",
        "gs.fit(data)\n",
        "\n",
        "# best RMSE score\n",
        "print(gs.best_score['rmse'])\n",
        "\n",
        "# best RMSE score\n",
        "print(gs.best_score['mae'])\n",
        "\n",
        "# combination of parameters that gave the best RMSE score\n",
        "print(gs.best_params['rmse'])\n",
        "\n",
        "# combination of parameters that gave the best MAE score\n",
        "print(gs.best_params['mae'])"
      ],
      "execution_count": 0,
      "outputs": [
        {
          "output_type": "stream",
          "text": [
            "1.4193677771715443\n",
            "1.2179176587999363\n",
            "{'n_epochs': 5, 'lr_all': 0.002, 'reg_all': 0.6}\n",
            "{'n_epochs': 5, 'lr_all': 0.002, 'reg_all': 0.6}\n"
          ],
          "name": "stdout"
        }
      ]
    },
    {
      "cell_type": "markdown",
      "metadata": {
        "id": "Y6CACBdTjcL6",
        "colab_type": "text"
      },
      "source": [
        "> After tuning rmse reduced to 1.419594"
      ]
    },
    {
      "cell_type": "code",
      "metadata": {
        "trusted": true,
        "id": "qnSJfAXdjcL6",
        "colab_type": "code",
        "colab": {},
        "outputId": "fe93bd14-1eb9-431f-b57c-98af8b7622fb"
      },
      "source": [
        "svd = SVD(n_factors= 50, reg_all=0.05)\n",
        "svd.fit(dataset)"
      ],
      "execution_count": 0,
      "outputs": [
        {
          "output_type": "execute_result",
          "data": {
            "text/plain": [
              "<surprise.prediction_algorithms.matrix_factorization.SVD at 0x7fb3b9d9e6d0>"
            ]
          },
          "metadata": {
            "tags": []
          },
          "execution_count": 46
        }
      ]
    },
    {
      "cell_type": "markdown",
      "metadata": {
        "id": "j-dTIiQqjcL_",
        "colab_type": "text"
      },
      "source": [
        "PREDICTIONS"
      ]
    },
    {
      "cell_type": "code",
      "metadata": {
        "trusted": true,
        "id": "HQzeSk1RjcL_",
        "colab_type": "code",
        "colab": {},
        "outputId": "0649e8aa-ba6a-4b9e-b8fa-5d7268bd3d71"
      },
      "source": [
        "svd.predict(2,4)"
      ],
      "execution_count": 0,
      "outputs": [
        {
          "output_type": "execute_result",
          "data": {
            "text/plain": [
              "Prediction(uid=2, iid=4, r_ui=None, est=2.3869416538479182, details={'was_impossible': False})"
            ]
          },
          "metadata": {
            "tags": []
          },
          "execution_count": 47
        }
      ]
    },
    {
      "cell_type": "code",
      "metadata": {
        "trusted": true,
        "id": "q8aViWOIjcMD",
        "colab_type": "code",
        "colab": {},
        "outputId": "db5d1b05-8670-4913-baeb-4df5f294eae9"
      },
      "source": [
        "svd.predict(2,5)"
      ],
      "execution_count": 0,
      "outputs": [
        {
          "output_type": "execute_result",
          "data": {
            "text/plain": [
              "Prediction(uid=2, iid=5, r_ui=None, est=2.074086574148923, details={'was_impossible': False})"
            ]
          },
          "metadata": {
            "tags": []
          },
          "execution_count": 48
        }
      ]
    },
    {
      "cell_type": "code",
      "metadata": {
        "trusted": true,
        "id": "2YFKhfyIjcMG",
        "colab_type": "code",
        "colab": {},
        "outputId": "b2077c1b-9c60-4748-8570-b6e37d55d08e"
      },
      "source": [
        "r = df['ArticleId_served'].unique()\n",
        "len(r)\n",
        "list_of_articles = r.tolist()\n",
        "list_of_articles[:5]\n",
        "\n",
        "rec = []\n",
        "for i in list_of_articles:\n",
        "    predicted_rating = svd.predict(2, i)\n",
        "    rec.append(predicted_rating)\n",
        "    \n",
        "rec[:10]    "
      ],
      "execution_count": 0,
      "outputs": [
        {
          "output_type": "execute_result",
          "data": {
            "text/plain": [
              "[Prediction(uid=2, iid=0, r_ui=None, est=2.6150298260481084, details={'was_impossible': False}),\n",
              " Prediction(uid=2, iid=1, r_ui=None, est=2.217782131785083, details={'was_impossible': False}),\n",
              " Prediction(uid=2, iid=2, r_ui=None, est=2.546301260997003, details={'was_impossible': False}),\n",
              " Prediction(uid=2, iid=3, r_ui=None, est=2.3863461119484284, details={'was_impossible': False}),\n",
              " Prediction(uid=2, iid=4, r_ui=None, est=2.3869416538479182, details={'was_impossible': False}),\n",
              " Prediction(uid=2, iid=5, r_ui=None, est=2.074086574148923, details={'was_impossible': False}),\n",
              " Prediction(uid=2, iid=6, r_ui=None, est=2.443128987976906, details={'was_impossible': False}),\n",
              " Prediction(uid=2, iid=7, r_ui=None, est=2.663284537536007, details={'was_impossible': False}),\n",
              " Prediction(uid=2, iid=8, r_ui=None, est=1.9484658695248593, details={'was_impossible': False}),\n",
              " Prediction(uid=2, iid=9, r_ui=None, est=2.7768372139419015, details={'was_impossible': False})]"
            ]
          },
          "metadata": {
            "tags": []
          },
          "execution_count": 50
        }
      ]
    },
    {
      "cell_type": "markdown",
      "metadata": {
        "id": "kVVG9J-TjcML",
        "colab_type": "text"
      },
      "source": [
        "## BaselineOnly"
      ]
    },
    {
      "cell_type": "markdown",
      "metadata": {
        "id": "o20u0oI_jcMM",
        "colab_type": "text"
      },
      "source": [
        "#### Tuning BaselineOnly parameters with GridSearchCV"
      ]
    },
    {
      "cell_type": "code",
      "metadata": {
        "trusted": true,
        "id": "5jUb9a3njcMM",
        "colab_type": "code",
        "colab": {}
      },
      "source": [
        "param_grid = {'bsl_options':{'method': ['als','sgd'],'n_epochs': [5, 10], 'lr_all': [0.002, 0.005],\n",
        "              'reg_all': [0.4, 0.6]}}\n",
        "\n",
        "# bsl_options = {'method': ['als','sgd'],'n_epochs': [5, 10], 'lr_all': [0.002, 0.005],\n",
        "#               'reg_all': [0.4, 0.6]}\n",
        "bsl_algo = BaselineOnly()"
      ],
      "execution_count": 0,
      "outputs": []
    },
    {
      "cell_type": "code",
      "metadata": {
        "trusted": true,
        "id": "RncQ7ucjjcMP",
        "colab_type": "code",
        "colab": {},
        "outputId": "d4099121-54eb-41fb-e5e6-a4eccceceaf8"
      },
      "source": [
        "gs = GridSearchCV(BaselineOnly, param_grid, measures=['rmse', 'mae'], cv=3)\n",
        "\n",
        "gs.fit(data)\n",
        "\n",
        "# best RMSE score\n",
        "print(gs.best_score['rmse'])\n",
        "\n",
        "# combination of parameters that gave the best RMSE score\n",
        "print(gs.best_params['rmse'])\n"
      ],
      "execution_count": 0,
      "outputs": [
        {
          "output_type": "stream",
          "text": [
            "Estimating biases using als...\n",
            "Estimating biases using als...\n",
            "Estimating biases using als...\n",
            "Estimating biases using als...\n",
            "Estimating biases using als...\n",
            "Estimating biases using als...\n",
            "Estimating biases using als...\n",
            "Estimating biases using als...\n",
            "Estimating biases using als...\n",
            "Estimating biases using als...\n",
            "Estimating biases using als...\n",
            "Estimating biases using als...\n",
            "Estimating biases using als...\n",
            "Estimating biases using als...\n",
            "Estimating biases using als...\n",
            "Estimating biases using als...\n",
            "Estimating biases using als...\n",
            "Estimating biases using als...\n",
            "Estimating biases using als...\n",
            "Estimating biases using als...\n",
            "Estimating biases using als...\n",
            "Estimating biases using als...\n",
            "Estimating biases using als...\n",
            "Estimating biases using als...\n",
            "Estimating biases using sgd...\n",
            "Estimating biases using sgd...\n",
            "Estimating biases using sgd...\n",
            "Estimating biases using sgd...\n",
            "Estimating biases using sgd...\n",
            "Estimating biases using sgd...\n",
            "Estimating biases using sgd...\n",
            "Estimating biases using sgd...\n",
            "Estimating biases using sgd...\n",
            "Estimating biases using sgd...\n",
            "Estimating biases using sgd...\n",
            "Estimating biases using sgd...\n",
            "Estimating biases using sgd...\n",
            "Estimating biases using sgd...\n",
            "Estimating biases using sgd...\n",
            "Estimating biases using sgd...\n",
            "Estimating biases using sgd...\n",
            "Estimating biases using sgd...\n",
            "Estimating biases using sgd...\n",
            "Estimating biases using sgd...\n",
            "Estimating biases using sgd...\n",
            "Estimating biases using sgd...\n",
            "Estimating biases using sgd...\n",
            "Estimating biases using sgd...\n",
            "1.4271254475027686\n",
            "{'bsl_options': {'method': 'sgd', 'n_epochs': 5, 'lr_all': 0.002, 'reg_all': 0.4}}\n"
          ],
          "name": "stdout"
        }
      ]
    },
    {
      "cell_type": "markdown",
      "metadata": {
        "id": "l5KXwT21jcNv",
        "colab_type": "text"
      },
      "source": [
        "> After tuning rmse reduced to 1.4265558"
      ]
    },
    {
      "cell_type": "code",
      "metadata": {
        "trusted": true,
        "id": "Ge-fRPM3jcNv",
        "colab_type": "code",
        "colab": {},
        "outputId": "97d7cae0-a700-4218-c8b7-3e5d2bbab253"
      },
      "source": [
        "bsl_options = {'method': 'sgd', 'n_epochs': 5, 'lr_all': 0.002, 'reg_all': 0.4}\n",
        "algo = BaselineOnly(bsl_options=bsl_options)\n",
        "\n",
        "algo.fit(dataset)"
      ],
      "execution_count": 0,
      "outputs": [
        {
          "output_type": "stream",
          "text": [
            "Estimating biases using sgd...\n"
          ],
          "name": "stdout"
        },
        {
          "output_type": "execute_result",
          "data": {
            "text/plain": [
              "<surprise.prediction_algorithms.baseline_only.BaselineOnly at 0x7fb3bd658d50>"
            ]
          },
          "metadata": {
            "tags": []
          },
          "execution_count": 54
        }
      ]
    },
    {
      "cell_type": "markdown",
      "metadata": {
        "id": "6-98P6_4jcNz",
        "colab_type": "text"
      },
      "source": [
        "PREDICTIONS"
      ]
    },
    {
      "cell_type": "code",
      "metadata": {
        "trusted": true,
        "id": "yM_p9tlbjcN0",
        "colab_type": "code",
        "colab": {},
        "outputId": "bdbf3d68-5383-40b8-edc6-da705e09d2fc"
      },
      "source": [
        "algo.predict(2,4)"
      ],
      "execution_count": 0,
      "outputs": [
        {
          "output_type": "execute_result",
          "data": {
            "text/plain": [
              "Prediction(uid=2, iid=4, r_ui=None, est=2.562330284651921, details={'was_impossible': False})"
            ]
          },
          "metadata": {
            "tags": []
          },
          "execution_count": 55
        }
      ]
    },
    {
      "cell_type": "code",
      "metadata": {
        "trusted": true,
        "id": "Spy1nXycjcN6",
        "colab_type": "code",
        "colab": {},
        "outputId": "91fcc268-f783-4dd3-fbc6-5e9c92b7b842"
      },
      "source": [
        "algo.predict(2,5)"
      ],
      "execution_count": 0,
      "outputs": [
        {
          "output_type": "execute_result",
          "data": {
            "text/plain": [
              "Prediction(uid=2, iid=5, r_ui=None, est=2.4186013549243226, details={'was_impossible': False})"
            ]
          },
          "metadata": {
            "tags": []
          },
          "execution_count": 56
        }
      ]
    },
    {
      "cell_type": "code",
      "metadata": {
        "trusted": true,
        "id": "JWr1JPGCjcN_",
        "colab_type": "code",
        "colab": {},
        "outputId": "a9e325fd-1b93-4bb5-f040-999af08029e4"
      },
      "source": [
        "r = df['ArticleId_served'].unique()\n",
        "len(r)\n",
        "list_of_articles = r.tolist()\n",
        "list_of_articles[:5]"
      ],
      "execution_count": 0,
      "outputs": [
        {
          "output_type": "execute_result",
          "data": {
            "text/plain": [
              "[0, 1, 2, 3, 4]"
            ]
          },
          "metadata": {
            "tags": []
          },
          "execution_count": 59
        }
      ]
    },
    {
      "cell_type": "code",
      "metadata": {
        "trusted": true,
        "id": "n4KDMQsMjcOF",
        "colab_type": "code",
        "colab": {}
      },
      "source": [
        "rec = []\n",
        "for i in list_of_articles:\n",
        "    predicted_rating = algo.predict(2, i)\n",
        "    rec.append(predicted_rating)"
      ],
      "execution_count": 0,
      "outputs": []
    },
    {
      "cell_type": "code",
      "metadata": {
        "trusted": true,
        "id": "p17NSD30jcOc",
        "colab_type": "code",
        "colab": {},
        "outputId": "d0e349fd-2fd2-40ec-bd86-0dedf92a595e"
      },
      "source": [
        "rec[:10]"
      ],
      "execution_count": 0,
      "outputs": [
        {
          "output_type": "execute_result",
          "data": {
            "text/plain": [
              "[Prediction(uid=2, iid=0, r_ui=None, est=2.708472121464236, details={'was_impossible': False}),\n",
              " Prediction(uid=2, iid=1, r_ui=None, est=2.615852436554692, details={'was_impossible': False}),\n",
              " Prediction(uid=2, iid=2, r_ui=None, est=2.7177441385545906, details={'was_impossible': False}),\n",
              " Prediction(uid=2, iid=3, r_ui=None, est=2.6507241809536355, details={'was_impossible': False}),\n",
              " Prediction(uid=2, iid=4, r_ui=None, est=2.562330284651921, details={'was_impossible': False}),\n",
              " Prediction(uid=2, iid=5, r_ui=None, est=2.4186013549243226, details={'was_impossible': False}),\n",
              " Prediction(uid=2, iid=6, r_ui=None, est=2.7027730301506567, details={'was_impossible': False}),\n",
              " Prediction(uid=2, iid=7, r_ui=None, est=2.7497372044376136, details={'was_impossible': False}),\n",
              " Prediction(uid=2, iid=8, r_ui=None, est=2.282391241175862, details={'was_impossible': False}),\n",
              " Prediction(uid=2, iid=9, r_ui=None, est=2.782657240943323, details={'was_impossible': False})]"
            ]
          },
          "metadata": {
            "tags": []
          },
          "execution_count": 61
        }
      ]
    }
  ]
}