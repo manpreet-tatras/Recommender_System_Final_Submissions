{
  "nbformat": 4,
  "nbformat_minor": 0,
  "metadata": {
    "colab": {
      "name": "Rec System.ipynb",
      "provenance": []
    },
    "kernelspec": {
      "name": "python3",
      "display_name": "Python 3"
    }
  },
  "cells": [
    {
      "cell_type": "code",
      "metadata": {
        "id": "k-IAqQM_Lb0x",
        "colab_type": "code",
        "colab": {}
      },
      "source": [
        "import numpy as np\n",
        "import pandas as pd\n",
        "import random\n",
        "import matplotlib.pyplot as plt"
      ],
      "execution_count": 0,
      "outputs": []
    },
    {
      "cell_type": "code",
      "metadata": {
        "id": "03ylomv5suEg",
        "colab_type": "code",
        "colab": {}
      },
      "source": [
        "import time"
      ],
      "execution_count": 0,
      "outputs": []
    },
    {
      "cell_type": "code",
      "metadata": {
        "id": "lEzYIqBCOPF2",
        "colab_type": "code",
        "colab": {}
      },
      "source": [
        "from google.colab import drive"
      ],
      "execution_count": 0,
      "outputs": []
    },
    {
      "cell_type": "code",
      "metadata": {
        "id": "AzQzJZ5PORIe",
        "colab_type": "code",
        "outputId": "fa13c52f-39ea-4a60-adab-e7e63b832824",
        "colab": {
          "base_uri": "https://localhost:8080/",
          "height": 35
        }
      },
      "source": [
        "drive.mount('/content/gdrive')"
      ],
      "execution_count": 0,
      "outputs": [
        {
          "output_type": "stream",
          "text": [
            "Drive already mounted at /content/gdrive; to attempt to forcibly remount, call drive.mount(\"/content/gdrive\", force_remount=True).\n"
          ],
          "name": "stdout"
        }
      ]
    },
    {
      "cell_type": "code",
      "metadata": {
        "id": "6minvY_SOYFx",
        "colab_type": "code",
        "outputId": "dd3c13ed-7983-406f-a8ba-74d26fc7baa7",
        "colab": {
          "base_uri": "https://localhost:8080/",
          "height": 35
        }
      },
      "source": [
        "cd 'gdrive/My Drive/Datasets/'"
      ],
      "execution_count": 0,
      "outputs": [
        {
          "output_type": "stream",
          "text": [
            "/content/gdrive/My Drive/Datasets\n"
          ],
          "name": "stdout"
        }
      ]
    },
    {
      "cell_type": "code",
      "metadata": {
        "id": "1AWGfE90yKaz",
        "colab_type": "code",
        "outputId": "3821cbcf-3a58-4988-b399-b0dfe8dd7e71",
        "colab": {
          "base_uri": "https://localhost:8080/",
          "height": 69
        }
      },
      "source": [
        "from nltk.tokenize import word_tokenize\n",
        "import nltk\n",
        "nltk.download('punkt')"
      ],
      "execution_count": 0,
      "outputs": [
        {
          "output_type": "stream",
          "text": [
            "[nltk_data] Downloading package punkt to /root/nltk_data...\n",
            "[nltk_data]   Package punkt is already up-to-date!\n"
          ],
          "name": "stdout"
        },
        {
          "output_type": "execute_result",
          "data": {
            "text/plain": [
              "True"
            ]
          },
          "metadata": {
            "tags": []
          },
          "execution_count": 6
        }
      ]
    },
    {
      "cell_type": "code",
      "metadata": {
        "id": "ghn0MQO7OX9s",
        "colab_type": "code",
        "colab": {}
      },
      "source": [
        "data = pd.read_csv('df.csv')"
      ],
      "execution_count": 0,
      "outputs": []
    },
    {
      "cell_type": "code",
      "metadata": {
        "id": "imcFVF4FOX0w",
        "colab_type": "code",
        "colab": {}
      },
      "source": [
        "data = data[['Article_Id','Title','Content','Labels']]"
      ],
      "execution_count": 0,
      "outputs": []
    },
    {
      "cell_type": "code",
      "metadata": {
        "id": "___Z7o6IM-xg",
        "colab_type": "code",
        "outputId": "3ee82dab-3836-401e-93d2-ce47d32e7a28",
        "colab": {
          "base_uri": "https://localhost:8080/",
          "height": 208
        }
      },
      "source": [
        "data.info()"
      ],
      "execution_count": 0,
      "outputs": [
        {
          "output_type": "stream",
          "text": [
            "<class 'pandas.core.frame.DataFrame'>\n",
            "RangeIndex: 4831 entries, 0 to 4830\n",
            "Data columns (total 4 columns):\n",
            " #   Column      Non-Null Count  Dtype \n",
            "---  ------      --------------  ----- \n",
            " 0   Article_Id  4831 non-null   int64 \n",
            " 1   Title       4831 non-null   object\n",
            " 2   Content     4831 non-null   object\n",
            " 3   Labels      4831 non-null   int64 \n",
            "dtypes: int64(2), object(2)\n",
            "memory usage: 151.1+ KB\n"
          ],
          "name": "stdout"
        }
      ]
    },
    {
      "cell_type": "code",
      "metadata": {
        "id": "ambGOajY-IL-",
        "colab_type": "code",
        "outputId": "54f4525b-c99f-400c-a0aa-8a9b4f1c3b57",
        "colab": {
          "base_uri": "https://localhost:8080/",
          "height": 55
        }
      },
      "source": [
        "data.iloc[0]['Content']"
      ],
      "execution_count": 0,
      "outputs": [
        {
          "output_type": "execute_result",
          "data": {
            "text/plain": [
              "'At least 14 people died and 17 others were injured after a bus travelling from Hyderabad to Kakinada plunged into a canal from a bridge on the accident-prone stretch of the Hyderabad-Khammam highway in Telangana early Monday morning \\nThe injured were admitted to the Government General Hospital for treatment \\n\\n\\nSeven people died on the spot and the others succumbed to injuries while undergoing treatment at the hospital  The passengers belonged to the East and West Godavari districts of Andhra Pradesh \\nThe bus  owned by private operator Yatra Genie  commenced its journey from Hyderabad at 11 30 p m  on Sunday  Khammam Superintendent of Police Shah Nawaz Khan was quoted by the Hindustan Times as saying \\nThe accident happened around 2 30 a m  when the driver slammed the brakes to avoid a collision with another vehicle coming from the opposite direction on a bridge over Nagarjunsagar project left canal at Nayankangudem village in Khammam district  the daily reported  The bus hit the parapet wall of the bridge and nose-dived into the canal \\nThe driver of the bus was apparently driving at high speed due to which he lost control of the vehicle  following which it fell into the canal under Kusumanchi mandal  the Deccan Herald reported \\nTravellers immediately informed the police who rushed to the accident scene and began the rescue operations '"
            ]
          },
          "metadata": {
            "tags": []
          },
          "execution_count": 10
        }
      ]
    },
    {
      "cell_type": "code",
      "metadata": {
        "id": "BOOokJKfOcD-",
        "colab_type": "code",
        "colab": {}
      },
      "source": [
        "def bot1(data,n_clusters):\n",
        "  labels = data.Labels.values\n",
        "  df = data.values\n",
        "  rec = []\n",
        "\n",
        "  for i in range(n_clusters):\n",
        "    # (1) indices of all the points from X that belong to cluster i\n",
        "    C_i = np.where(labels == i)[0].tolist() \n",
        "\n",
        "    # (2) indices of the points from X to be sampled from cluster i\n",
        "    sample_i = np.random.choice(C_i, 2) \n",
        "    \n",
        "    for j in sample_i:\n",
        "      rec.append(df[j][0])\n",
        "\n",
        "  rec = random.sample(rec,10)\n",
        "  return rec"
      ],
      "execution_count": 0,
      "outputs": []
    },
    {
      "cell_type": "code",
      "metadata": {
        "id": "JAoKHiHUyr6y",
        "colab_type": "code",
        "colab": {}
      },
      "source": [
        "def bot2(data,n_clusters,articles_read):\n",
        "\n",
        "  #get recommendations from bot1\n",
        "  rec = bot1(data,n_clusters)\n",
        "\n",
        "  #find intersection of recommendations and articles read\n",
        "  intersect = np.intersect1d(rec,articles_read)\n",
        "\n",
        "  #repeat the process until intersection is empty\n",
        "  while len(intersect) != 0:\n",
        "    rec = bot1(data,n_clusters)\n",
        "    intersect = np.intersect1d(rec,articles_read)\n",
        "  \n",
        "  return rec"
      ],
      "execution_count": 0,
      "outputs": []
    },
    {
      "cell_type": "code",
      "metadata": {
        "id": "BfOOZCizOcAZ",
        "colab_type": "code",
        "outputId": "bc40c00b-7b06-4ecc-fac2-b422acb6a3b9",
        "colab": {
          "base_uri": "https://localhost:8080/",
          "height": 35
        }
      },
      "source": [
        "bot1(data,5)"
      ],
      "execution_count": 0,
      "outputs": [
        {
          "output_type": "execute_result",
          "data": {
            "text/plain": [
              "[2498, 2482, 3388, 2467, 625, 1769, 2253, 718, 2507, 4385]"
            ]
          },
          "metadata": {
            "tags": []
          },
          "execution_count": 13
        }
      ]
    },
    {
      "cell_type": "code",
      "metadata": {
        "id": "Oa7MQSN_MDiC",
        "colab_type": "code",
        "colab": {}
      },
      "source": [
        "def clickStream(n_users=100000):\n",
        "  c_data = {}\n",
        "\n",
        "  for i in range(n_users):\n",
        "    curr_user = {}\n",
        "\n",
        "    #here we are making an assumption that speed of user remains same in all the sessions\n",
        "    speed = np.random.normal(loc=225,scale=10)\n",
        "     \n",
        "    n_sessions = np.random.poisson(lam=1) + 1\n",
        "\n",
        "    for j in range(n_sessions):\n",
        "      curr_session = {}\n",
        "\n",
        "      #articles served to the user\n",
        "      articles = bot1(data,5)\n",
        "\n",
        "      #number of clicks\n",
        "      n_clicks = int(np.random.normal(2.8,1) + 0.5)\n",
        "\n",
        "      #position of clicks\n",
        "      pos = []\n",
        "      s = time.time()\n",
        "      while np.unique(pos).shape[0] != n_clicks:\n",
        "        c_pos = np.random.choice(a=[0,1,2,3,4,5,6,7,8,9],p=[0.325,0.176,0.114,0.081,0.071,0.059,0.049,0.047,0.041,0.037])\n",
        "        pos.append(c_pos)\n",
        "        e = time.time()\n",
        "\n",
        "        if e - s > 20:\n",
        "          break\n",
        "\n",
        "      pos = np.unique(pos)\n",
        "      n_clicks = np.unique(pos).shape[0]\n",
        "      \n",
        "      #time spent on an article\n",
        "      time_spent = []\n",
        "\n",
        "      for k in pos:\n",
        "        #does the user leave at start or not\n",
        "        choice = np.random.choice(a=[1,2],p=[0.29,0.71]) #if 1 it means user leaves within 15 seconds.\n",
        "        \n",
        "        if choice == 1:\n",
        "          c_art_time = round(np.random.normal(loc=10,scale=2),2)\n",
        "          \n",
        "          time_spent.append(c_art_time)\n",
        "\n",
        "        elif choice == 2:\n",
        "          #stats show If they do stick around and scroll down the page,\n",
        "          #fewer than one-third of those people will read beyond the first one-third of the article.\n",
        "          choice_2 = np.random.choice(a=[1,2],p=[0.66,0.34])\n",
        "\n",
        "\n",
        "          content =  data.iloc[k]['Content']\n",
        "          n_words = len(word_tokenize(content))\n",
        "\n",
        "          if choice_2 == 1:\n",
        "            n_words = n_words/3\n",
        "\n",
        "          c_art_time = round((n_words/speed) * 60,2) #multiplying by 60 because user speed is calculated in words/min\n",
        "          time_spent.append(c_art_time)\n",
        "\n",
        "      curr_session['articles'] = articles\n",
        "      curr_session['click_pos'] = pos\n",
        "      curr_session['time_spent'] = time_spent\n",
        "\n",
        "      curr_user[j] = curr_session\n",
        "    \n",
        "    c_data[i] = curr_user\n",
        "    if i % 10000 == 0:\n",
        "      print(i)\n",
        "  \n",
        "  return c_data\n"
      ],
      "execution_count": 0,
      "outputs": []
    },
    {
      "cell_type": "code",
      "metadata": {
        "id": "k5jiWMk_bqQY",
        "colab_type": "code",
        "outputId": "d0ed57fb-b8c8-4b1d-c9f5-551f76aa3e37",
        "colab": {
          "base_uri": "https://localhost:8080/",
          "height": 104
        }
      },
      "source": [
        "a = clickStream(50000)"
      ],
      "execution_count": 0,
      "outputs": [
        {
          "output_type": "stream",
          "text": [
            "0\n",
            "10000\n",
            "20000\n",
            "30000\n",
            "40000\n"
          ],
          "name": "stdout"
        }
      ]
    },
    {
      "cell_type": "code",
      "metadata": {
        "id": "jjoelXbAnF0Y",
        "colab_type": "code",
        "colab": {}
      },
      "source": [
        "np.save('click_stream.npy', a) "
      ],
      "execution_count": 0,
      "outputs": []
    },
    {
      "cell_type": "code",
      "metadata": {
        "id": "_r1qk4MW3KG4",
        "colab_type": "code",
        "colab": {}
      },
      "source": [
        "def click_stream_to_usable_format(click_stream_data):\n",
        "  n_users = len(list(click_stream_data.keys()))\n",
        "  n_items = 4831\n",
        "\n",
        "  profile = np.empty((n_users,n_items))\n",
        "\n",
        "  profile[:] = np.nan\n",
        "\n",
        "  for user_id in list(click_stream_data.keys()):\n",
        "\n",
        "    articles_served = []\n",
        "    time_spent = []\n",
        "\n",
        "    for session_id in list(click_stream_data[user_id].keys()):\n",
        "      c_s_articles = click_stream_data[user_id][session_id]['articles']\n",
        "    \n",
        "      c_s_time_spent = np.zeros(10)\n",
        "\n",
        "      click_pos = click_stream_data[user_id][session_id]['click_pos']\n",
        "      times = click_stream_data[user_id][session_id]['time_spent']\n",
        "\n",
        "      for i in range(len(click_pos)):\n",
        "        c_s_time_spent[click_pos[i] % 10] = times[i]\n",
        "\n",
        "      articles_served.extend(c_s_articles)\n",
        "      time_spent.extend(c_s_time_spent)\n",
        "\n",
        "    for j in range(len(articles_served)):\n",
        "      profile[user_id][articles_served[j]] = time_spent[j]\n",
        "\n",
        "  \n",
        "  return profile"
      ],
      "execution_count": 0,
      "outputs": []
    },
    {
      "cell_type": "code",
      "metadata": {
        "id": "grq_kEWke_yK",
        "colab_type": "code",
        "colab": {}
      },
      "source": [
        "users_profile = click_stream_to_usable_format(a)"
      ],
      "execution_count": 0,
      "outputs": []
    },
    {
      "cell_type": "code",
      "metadata": {
        "id": "oB7d-dZdwO5_",
        "colab_type": "code",
        "outputId": "1a8c134b-8c77-4f3d-8557-e148e4b8348d",
        "colab": {
          "base_uri": "https://localhost:8080/",
          "height": 35
        }
      },
      "source": [
        "users_profile.shape"
      ],
      "execution_count": 0,
      "outputs": [
        {
          "output_type": "execute_result",
          "data": {
            "text/plain": [
              "(50000, 4831)"
            ]
          },
          "metadata": {
            "tags": []
          },
          "execution_count": 21
        }
      ]
    },
    {
      "cell_type": "code",
      "metadata": {
        "id": "JSwrDSZ6wUOf",
        "colab_type": "code",
        "colab": {}
      },
      "source": [
        "def recommendations(data,user_id,click_stream_data):\n",
        "  \n",
        "  n_sessions = len(click_stream[user_id].keys())\n",
        "\n",
        "  if n_sessions == 0:\n",
        "    return bot1(data,5)\n",
        "  \n",
        "  elif n_sessions <= 2:\n",
        "      users_profile = click_stream_to_usable_format(click_stream_data)\n",
        "      #articles read by the user\n",
        "      articles_read = np.argwhere(users_profile[i] > 0)\n",
        "      n = articles_read.shape[0]\n",
        "      articles_read = articles_read.reshape((n,))\n",
        "\n",
        "      #sending articles_read because we don't want our system to recommend articles already read by the user.\n",
        "      return bot2(data,5,articles_read)\n",
        "\n",
        "  else: \n",
        "    users_profile = click_stream_to_usable_format(click_stream_data)\n",
        "    \n",
        "    n_users = len(list(click_stream_data.keys()))\n",
        "\n",
        "    #calculating avg time spent\n",
        "    avg_time = []\n",
        "    for i in range(n_users):\n",
        "      #articles read by the user\n",
        "      articles_read = np.argwhere(users_profile[i] > 0)\n",
        "      n = articles_read.shape[0]\n",
        "      articles_read = articles_read.reshape((n,))\n",
        "\n",
        "      #calculating avg time spent\n",
        "      total_time_spent = 0\n",
        "      for j in articles_read:\n",
        "        total_time_spent += users_profile[i][j]\n",
        "      \n",
        "      if len(articles_read) == 0:\n",
        "        avg_time.append(0)\n",
        "      else:\n",
        "        a_time = round(total_time_spent/len(articles_read),2)\n",
        "        avg_time.append(a_time)\n",
        "\n",
        "    #calculating user similarity\n",
        "    \n",
        "    sim = []\n",
        "    for i in range(n_users):\n",
        "      \n",
        "      if i == user_id:\n",
        "        sim.append(1)\n",
        "      else:\n",
        "        #articles read by ith user\n",
        "        articles_read = np.argwhere(users_profile[i] > 0)\n",
        "        n = articles_read.shape[0]\n",
        "        articles_read = articles_read.reshape((n,))\n",
        "\n",
        "        #articles read by curr user\n",
        "        articles_read_c_u = np.argwhere(users_profile[user_id] > 0)\n",
        "        n = articles_read_c_u.shape[0]\n",
        "        articles_read_c_u = articles_read_c_u.reshape((n,))\n",
        "\n",
        "        intersection = np.intersect1d(articles_read,articles_read_c_u)\n",
        "        if len(intersection) == 0:\n",
        "          sim.append(0)\n",
        "        else:\n",
        "          numerator = 0\n",
        "          denominator = 0\n",
        "\n",
        "          #for num\n",
        "          for article in intersection:\n",
        "            t_a_j = users_profile[i][article]\n",
        "            u_a = avg_time[i]\n",
        "\n",
        "            t_b_j = users_profile[user_id][article]\n",
        "            u_b = avg_time[user_id]\n",
        "\n",
        "            product = (t_a_j - u_a) * (t_b_j - u_b)\n",
        "            numerator += product\n",
        "          \n",
        "          #for den\n",
        "          term1 = 0\n",
        "          term2 = 0\n",
        "\n",
        "          u_a = avg_time[i]\n",
        "          u_b = avg_time[user_id]\n",
        "\n",
        "          for article in articles_read:\n",
        "            diff = users_profile[i][article] - u_a\n",
        "            diff_squared = np.square(diff)\n",
        "\n",
        "            term1 += diff_squared\n",
        "          \n",
        "          for article in articles_read_c_u:\n",
        "            diff = users_profile[user_id][article] - u_a\n",
        "            diff_squared = np.square(diff)\n",
        "\n",
        "            term2 += diff_squared\n",
        "\n",
        "          term1 = np.sqrt(term1)\n",
        "          term2 = np.sqrt(term2)\n",
        "\n",
        "          denominator = term1 * term2\n",
        "\n",
        "          sim.append(numerator/denominator)\n",
        "      \n",
        "    #prediction time spent\n",
        "\n",
        "    #first lets find items that aren't visited by the user\n",
        "    not_visited = np.argwhere(np.isnan(users_profile[user_id]))\n",
        "    n = not_visited.shape[0]\n",
        "    not_visited = not_visited.reshape((n,))\n",
        "\n",
        "    u_i = avg_time[user_id]\n",
        "\n",
        "    predictions = []\n",
        "    for i in range(len(not_visited)):\n",
        "      time = u_i\n",
        "\n",
        "      item = not_visited[i]\n",
        "      \n",
        "      nan_locs = np.isnan(users_profile[:,item])\n",
        "      inverted = np.logical_not(nan_locs)\n",
        "      locs = np.argwhere(inverted)\n",
        "      n = locs.shape[0]\n",
        "      locs = locs.reshape((n,))\n",
        "      \n",
        "      num = 0\n",
        "      den = 0\n",
        "\n",
        "      #for num\n",
        "      for j in locs:\n",
        "        t_k_j = users_profile[j][item]\n",
        "        u_j = avg_time[j]\n",
        "\n",
        "        num += (sim[j] * (t_k_j - u_j)) \n",
        "\n",
        "        den += sim[j]\n",
        "\n",
        "        \n",
        "      time += (num/den)\n",
        "      \n",
        "      if np.isnan(time):\n",
        "        time = 0\n",
        "      predictions.append(time)\n",
        "    \n",
        "    predictions, not_visited = zip(*sorted(zip(predictions, not_visited),reverse=True))\n",
        "\n",
        "    rec = []\n",
        "    rec.extend(not_visited[:7])\n",
        "\n",
        "    not_visited_left = not_visited[7:]\n",
        "\n",
        "    n = len(not_visited_left)\n",
        "    \n",
        "    index = random.sample(range(0,n),3)\n",
        "\n",
        "    for i in index:\n",
        "      rec.append(not_visited_left[i])\n",
        "    \n",
        "    return rec"
      ],
      "execution_count": 0,
      "outputs": []
    },
    {
      "cell_type": "code",
      "metadata": {
        "id": "KGIv0plRwYlT",
        "colab_type": "code",
        "colab": {}
      },
      "source": [
        "click_stream = a"
      ],
      "execution_count": 0,
      "outputs": []
    },
    {
      "cell_type": "code",
      "metadata": {
        "id": "qrbLu1p8wdok",
        "colab_type": "code",
        "outputId": "d625f4fa-54be-476f-e532-beeb8f6bd61c",
        "colab": {
          "base_uri": "https://localhost:8080/",
          "height": 173
        }
      },
      "source": [
        "click_stream[90]"
      ],
      "execution_count": 0,
      "outputs": [
        {
          "output_type": "execute_result",
          "data": {
            "text/plain": [
              "{0: {'articles': [907, 1145, 129, 1485, 3425, 2765, 3324, 2250, 4806, 3373],\n",
              "  'click_pos': array([0, 5]),\n",
              "  'time_spent': [58.51, 49.81]},\n",
              " 1: {'articles': [4516, 1917, 3616, 956, 1252, 290, 2369, 4175, 3263, 4198],\n",
              "  'click_pos': array([0, 1, 2]),\n",
              "  'time_spent': [58.51, 17.57, 59.83]},\n",
              " 2: {'articles': [838, 567, 2804, 2240, 2570, 4620, 92, 4275, 3509, 4511],\n",
              "  'click_pos': array([0, 3, 5]),\n",
              "  'time_spent': [19.5, 28.55, 16.6]}}"
            ]
          },
          "metadata": {
            "tags": []
          },
          "execution_count": 34
        }
      ]
    },
    {
      "cell_type": "code",
      "metadata": {
        "id": "cnkBCeX8wi9V",
        "colab_type": "code",
        "outputId": "21f4a34f-32f8-4243-da4b-aaee5dde42a9",
        "colab": {
          "base_uri": "https://localhost:8080/",
          "height": 104
        }
      },
      "source": [
        "rec = recommendations(data,90,click_stream)"
      ],
      "execution_count": 0,
      "outputs": [
        {
          "output_type": "stream",
          "text": [
            "/usr/local/lib/python3.6/dist-packages/ipykernel_launcher.py:27: RuntimeWarning: invalid value encountered in greater\n",
            "/usr/local/lib/python3.6/dist-packages/ipykernel_launcher.py:51: RuntimeWarning: invalid value encountered in greater\n",
            "/usr/local/lib/python3.6/dist-packages/ipykernel_launcher.py:56: RuntimeWarning: invalid value encountered in greater\n",
            "/usr/local/lib/python3.6/dist-packages/ipykernel_launcher.py:102: RuntimeWarning: invalid value encountered in double_scalars\n",
            "/usr/local/lib/python3.6/dist-packages/ipykernel_launcher.py:138: RuntimeWarning: invalid value encountered in double_scalars\n"
          ],
          "name": "stderr"
        }
      ]
    },
    {
      "cell_type": "code",
      "metadata": {
        "id": "6brYYA8x0Ws-",
        "colab_type": "code",
        "outputId": "9ae523ba-ff7d-4702-df8f-a7672a2ad429",
        "colab": {
          "base_uri": "https://localhost:8080/",
          "height": 329
        }
      },
      "source": [
        "#Now lets see how our model performs\n",
        "\n",
        "articles_read = np.argwhere(users_profile[90] > 0)\n",
        "n = articles_read.shape[0]\n",
        "articles_read = articles_read.reshape((n,))\n",
        "\n",
        "for article in articles_read:\n",
        "  print(data.iloc[article]['Title'])\n",
        "  print()"
      ],
      "execution_count": 0,
      "outputs": [
        {
          "output_type": "stream",
          "text": [
            "After Rajinikanth  Ajith  Vijay and Suriya  Nayantara finally pairs up with Vikram\n",
            "\n",
            "Update Samsung Galaxy S4 Mini with Android 5 1 1 Lollipop update via SlimLP custom ROM  How to install \n",
            "\n",
            "Vanitha-Cera Film Awards  Mammootty  Manju Warrier Win Best Actor Awards   1983  Best Film  PHOTOS \n",
            "\n",
            "Air India Offloads Passengers to Accommodate Rijiju on Flight  Minister Says He was  Unaware \n",
            "\n",
            "Media gag in Kashmir  Local newspapers asked to stop printing  cable TV goes off air\n",
            "\n",
            " Bajrangi Bhaijaan  Actor Salman Khan to Start Shooting for  Sultan   Superstar to Romance  Tanu Weds Manu Returns  Star Kangana Ranaut \n",
            "\n",
            "Micromax Yu Yureka vs Xiaomi Redmi Note 4G  Which is the Best under  10 000 Smartphone and Why \n",
            "\n",
            "ADB revises forecast for China s 2015 economic growth higher\n",
            "\n"
          ],
          "name": "stdout"
        },
        {
          "output_type": "stream",
          "text": [
            "/usr/local/lib/python3.6/dist-packages/ipykernel_launcher.py:3: RuntimeWarning: invalid value encountered in greater\n",
            "  This is separate from the ipykernel package so we can avoid doing imports until\n"
          ],
          "name": "stderr"
        }
      ]
    },
    {
      "cell_type": "code",
      "metadata": {
        "id": "0Zb1ptC40ukp",
        "colab_type": "code",
        "outputId": "0f3d4f31-d128-4ef1-db74-43c4fc94a616",
        "colab": {
          "base_uri": "https://localhost:8080/",
          "height": 364
        }
      },
      "source": [
        "for article in rec:\n",
        "  print(data.iloc[article]['Title'])\n",
        "  print()"
      ],
      "execution_count": 0,
      "outputs": [
        {
          "output_type": "stream",
          "text": [
            "Important India-UK talks on terrorism threat on Friday  says Cameron\n",
            "\n",
            "Scoop  Renault India to launch Captur compact SUV  Laguna Sedan in 2017\n",
            "\n",
            "LG G5 SE with Qualcomm Snapdragon 652 SoC tipped to be launched in select regions\n",
            "\n",
            "RBI governor Rajan hopeful of GST Bill passage  National Herald case could spoil the game\n",
            "\n",
            " Su Su Sudhi Vathmeekam  first teaser featuring Jayasurya  Aju Varghese released  VIDEO \n",
            "\n",
            "Narendra Modi condemns killing of 14 Nepali guards in Kabul  Taliban claims responsibility\n",
            "\n",
            "Masterpiece Box Office Collection  Yash starrer beats  Dilwale    Bajirao Mastani  to earn Rs 16 6 crore in first weekend\n",
            "\n",
            "LIC Raises Exposure in 12 Sensex Firms\n",
            "\n",
            "Usain Bolt set for his last Olympics in Rio  wants to run sub-19 in 200m\n",
            "\n",
            "Vedalam  Vedhalam  box office collection  Ajith s star power works big time in its success\n",
            "\n"
          ],
          "name": "stdout"
        }
      ]
    },
    {
      "cell_type": "code",
      "metadata": {
        "id": "h8UxMyZB1WKE",
        "colab_type": "code",
        "colab": {}
      },
      "source": [
        ""
      ],
      "execution_count": 0,
      "outputs": []
    }
  ]
}